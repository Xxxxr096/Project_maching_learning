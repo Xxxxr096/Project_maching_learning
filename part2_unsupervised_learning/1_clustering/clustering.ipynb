{
 "cells": [
  {
   "cell_type": "markdown",
   "metadata": {},
   "source": [
    "\n",
    "# Machine Learning with Python\n",
    "\n",
    "Welcome to the **Machine Learning** course! This course is designed to give you hands-on experience with the foundational concepts and advanced techniques in machine learning. You will explore:\n",
    "\n",
    "1. **Supervised Learning**\n",
    "    - Regression algorithms\n",
    "    - Classification algorithms\n",
    "2. **Unsupervised Learning**\n",
    "    - Clustering algorithms\n",
    "    - Dimensionality reduction\n",
    "3. **Fairness and Interpretability**\n",
    "    - Interpretable methods\n",
    "    - Bias evaluation\n",
    "    \n",
    "Throughout the course, you'll engage in projects to solidify your understanding and gain practical skills in implementing machine learning algorithms.  \n",
    "\n",
    "Instructor: Dr. Adrien Dorise  \n",
    "Contact: adrien.dorise@hotmail.com  \n",
    "\n",
    "---\n"
   ]
  },
  {
   "cell_type": "markdown",
   "metadata": {},
   "source": [
    "## Part2.1: Unsupervised learning - Clustering on synthetic datasets\n",
    "In this project, you will analyse clustering mehtods on synthetic data. The taks will include:  \n",
    "\n",
    "1. **Import and Understand the Datasets**: Learn how to load, preprocess, and explore a dataset to prepare it for training.\n",
    "2. **Train a clustering model**: Select and train a clustering model using scikit-learn.\n",
    "3. **Evaluate and plot the model performance**: Select a criterion to which you can evaluate the model, and plot its result.\n",
    "4. **Compare multiple clustering model, and get the best performance**: Compare multiple models on multiple datasets, and find the best model to fit the data.\n",
    "\n",
    "In this exercise, some additional scripts are given to you:\n",
    "- **evaluation.py** regroups the clustering evaluation methods seen in the course section. You will be able to call this script to analyse the performance of your clustering model.\n",
    "- **distance.py** computes the euclidean distance necessary in the evaluation funcitons.\n",
    "\n",
    "By the end of this project, you'll have a solid understanding of the different clustering methods.\n",
    "\n",
    "---"
   ]
  },
  {
   "cell_type": "markdown",
   "metadata": {},
   "source": [
    "## Dataset\n",
    "\n",
    "This exercise will use the **Clustering Dataset repository** of the Dr. Milaan Parmar (https://github.com/milaan9/Clustering-Datasets).  \n",
    "This repository contains the collection of UCI (real-life) datasets and Synthetic (artificial) datasets(with cluster labels).\n",
    "  \n",
    "Here, the collection of available synthetic datasets are given to you in the   \n",
    "`part2_unsupervised_learning/1_clustering/dataset`  \n",
    "\n",
    "\n",
    "You will have to select a couple of datasets of your liking, and try your best to find the optimal clustering.  \n",
    "Here is a snapshots of the available datasets:  \n",
    "\n",
    "<img src=\"dataset/plot/dataset_plot.png\" alt=\"clustering_datasets\" width=\"1500\"/>  \n",
    "\n",
    "The code snippet below allows you to load the selected dataset."
   ]
  },
  {
   "cell_type": "code",
   "execution_count": null,
   "metadata": {},
   "outputs": [],
   "source": [
    "from scipy.io import arff\n",
    "\n",
    "def get_dataset(path):\n",
    "    \"\"\"Import an .arff data file into a Python variable.\n",
    "    Note that if the dataset contains more than 2 features, only the first two are exported.\n",
    "\n",
    "    Args:\n",
    "        path (string): Path to the .arff file\n",
    "\n",
    "    Returns:\n",
    "        data (list of [float, float]): Imported dataset\n",
    "    \"\"\"\n",
    "    data = arff.loadarff(open(path,'r'))\n",
    "    data = [[float(x[0]),float(x[1])] for x in data[0]]\n",
    "    return data"
   ]
  },
  {
   "cell_type": "markdown",
   "metadata": {},
   "source": [
    "## Data visualisation and preparation\n",
    "\n",
    "**Your job**:\n",
    "- Select a dataset from the list.\n",
    "- Use the get_dataset() method to import it.\n",
    "- Normalise the dataset between [0, 1].\n",
    "- Plot the dataset using matplotlib plt.scatter method."
   ]
  },
  {
   "cell_type": "code",
   "execution_count": null,
   "metadata": {},
   "outputs": [],
   "source": [
    "import matplotlib.pyplot as plt\n",
    "\n"
   ]
  },
  {
   "cell_type": "markdown",
   "metadata": {},
   "source": [
    "## Create the cluster model\n",
    "\n",
    "**Your job**:\n",
    "- Train a model using the sklearn library (https://scikit-learn.org/stable/modules/clustering.html):\n",
    "    - Select **two** algorithms that we studied in the course.\n",
    "    - Evaluate the optimal number of clusters if required.\n",
    "    - Train the algorithms on the dataset.\n",
    "    \n",
    "- Print the prediction on the first 10 samples for the two models alongside the target value."
   ]
  },
  {
   "cell_type": "code",
   "execution_count": null,
   "metadata": {},
   "outputs": [],
   "source": [
    "from sklearn import cluster \n",
    "\n",
    "\n"
   ]
  },
  {
   "cell_type": "markdown",
   "metadata": {},
   "source": [
    "## Evaluating the clustering using evaluation metrics\n",
    "\n",
    "As seen during the course, evaluating the partidionning can be quite complex, as no groud truth is available.  \n",
    "In some cases, you can plot the clusters and verify it manually. Unfortunately, it is often impossible to rely on visualition for higher-dimensional systems.  \n",
    "We will first analyse the clusters using the metrics seen in the course. These metrics are implemented in the **evaluation.py** script.\n",
    "\n",
    "**Your job**:\n",
    "- Using **evaluation.py** methods:\n",
    "    - Select at least two metrics.\n",
    "    - Evaluate your clustering on these two metrics.\n",
    "    - Compare and conclude about the performance of the models.\n",
    "    - Conclude on the performance for both models."
   ]
  },
  {
   "cell_type": "code",
   "execution_count": null,
   "metadata": {},
   "outputs": [],
   "source": [
    "import evaluation\n",
    "\n"
   ]
  },
  {
   "cell_type": "markdown",
   "metadata": {},
   "source": [
    "## Evaluating the clustering using visualisation\n",
    "\n",
    "Because we are working with 2D datasets, we have the opportunity to visualise the clustering.  \n",
    "Plot the clusters, so you can confirm if your previous conclusion is correct.\n",
    "\n",
    "**Your job**:\n",
    "- Using matplotlib scatter method:\n",
    "    - Plot the samples by coloring them regarding to their cluster ID.\n",
    "    - You can use either a for loop, or the predicted labels to do so.\n",
    "    - `fig = plt.scatter(f0, f1, c=labels)`\n",
    "    - Don't forget to add a legend!"
   ]
  },
  {
   "cell_type": "code",
   "execution_count": null,
   "metadata": {},
   "outputs": [],
   "source": [
    "import matplotlib.pyplot as plt\n",
    "\n"
   ]
  },
  {
   "cell_type": "markdown",
   "metadata": {},
   "source": [
    "## Try different datasets\n",
    "\n",
    "Now that you have a good understanding of the clustering workload, let's try with different datasets!\n",
    "\n",
    "**Your job**\n",
    "- Select at least two more datasets.\n",
    "- Train a DBSCAN and K-Means algorithm on it.\n",
    "- Evaluate the performance using at least two metrics.\n",
    "- Plot the clusters.\n",
    "- Modifies your models hyperparameters to see their impacts on the results.\n",
    "- Conclude on the advantage/disadvanges of K-Means over DBSCAN."
   ]
  }
 ],
 "metadata": {
  "kernelspec": {
   "display_name": "venv",
   "language": "python",
   "name": "python3"
  },
  "language_info": {
   "codemirror_mode": {
    "name": "ipython",
    "version": 3
   },
   "file_extension": ".py",
   "mimetype": "text/x-python",
   "name": "python",
   "nbconvert_exporter": "python",
   "pygments_lexer": "ipython3",
   "version": "3.10.8"
  }
 },
 "nbformat": 4,
 "nbformat_minor": 2
}
