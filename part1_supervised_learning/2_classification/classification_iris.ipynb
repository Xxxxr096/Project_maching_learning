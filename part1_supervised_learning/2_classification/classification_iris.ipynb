{
 "cells": [
  {
   "cell_type": "markdown",
   "metadata": {},
   "source": [
    "\n",
    "# Machine Learning with Python\n",
    "\n",
    "Welcome to the **Machine Learning** course! This course is designed to give you hands-on experience with the foundational concepts and advanced techniques in machine learning. You will explore:\n",
    "\n",
    "1. **Supervised Learning**\n",
    "    - Regression algorithms\n",
    "    - Classification algorithms\n",
    "2. **Unsupervised Learning**\n",
    "    - Clustering algorithms\n",
    "    - Dimensionality reduction\n",
    "3. **Fairness and Interpretability**\n",
    "    - Interpretable methods\n",
    "    - Bias evaluation\n",
    "    \n",
    "Throughout the course, you'll engage in projects to solidify your understanding and gain practical skills in implementing machine learning algorithms.  \n",
    "\n",
    "Instructor: Dr. Adrien Dorise  \n",
    "Contact: adrien.dorise@hotmail.com  \n",
    "\n",
    "---\n"
   ]
  },
  {
   "cell_type": "markdown",
   "metadata": {},
   "source": [
    "## Part1.2: Supervised learning - Classification on the Iris dataset\n",
    "In this project, you will compare multiple classification model on the Iris dataset. The taks will include:  \n",
    "\n",
    "1. **Import and Understand a Dataset**: Learn how to load, preprocess, and explore a dataset to prepare it for training.\n",
    "2. **Train a classification model**: Select and train a classification model using scikit-learn.\n",
    "3. **Evaluate and plot the model performance**: Select a criterion to which you can evaluate the model, and plot its result.\n",
    "4. **Compare multiple classification model, and get the best performance**: Compare multiple models, and find the best model to fit the data.\n",
    "\n",
    "By the end of this project, you'll have a solid understanding of the different classification methods.\n",
    "\n",
    "---"
   ]
  },
  {
   "cell_type": "markdown",
   "metadata": {},
   "source": [
    "## Dataset\n",
    "\n",
    "This exercise will use the **Iris dataset** (https://www.kaggle.com/datasets/uciml/iris).  \n",
    "The Iris dataset is a classic dataset in machine learning that contains 150 samples of iris flowers, with 4 features per sample: sepal length, sepal width, petal length, and petal width. Each sample is labeled with one of three species: Setosa, Versicolor, or Virginica.  \n",
    "\n",
    "This dataset can be accessed through scikt-learn API.    \n",
    "Here, it is given to you in the `part1_supervised_learning/2_classification/classification_dataset.csv`.  \n",
    "The code snippet below allows you to load the dataset."
   ]
  },
  {
   "cell_type": "code",
   "execution_count": 2,
   "metadata": {},
   "outputs": [],
   "source": [
    "import pandas as pd\n",
    "\n",
    "\n",
    "#Import Iris dataset\n",
    "df = pd.read_csv(\"classification_dataset.csv\")\n",
    "\n",
    "# Remove ID column\n",
    "df = df.drop(columns=[\"id\"])"
   ]
  },
  {
   "cell_type": "markdown",
   "metadata": {},
   "source": [
    "## Data visualisation\n",
    "\n",
    "**Your job**:\n",
    "- Print the first 10 samples of the dataset.\n",
    "    - What can you say about the available features?\n",
    "- Plot the dataset using matplotlib plt.scatter method."
   ]
  },
  {
   "cell_type": "code",
   "execution_count": null,
   "metadata": {},
   "outputs": [],
   "source": [
    "import numpy as np\n",
    "import matplotlib.pyplot as plt\n"
   ]
  },
  {
   "cell_type": "markdown",
   "metadata": {},
   "source": [
    "## Data preparation\n",
    "\n",
    "**Your job:**\n",
    "- Data cleaning\n",
    "    - If necessary, take care of missing values.\n",
    "    - The strategy used is up to you.\n",
    "    - You can remove the sample, or fill the missing value with a strategy of your choice.\n",
    "- Split features and targets.\n",
    "    - The target is the column labelled as **\"target\"** in the Dataframe.\n",
    "    - The features are all the other columns.\n",
    "- Normalise the dataset between [0,1] using **StandardScaler** (https://scikit-learn.org/stable/modules/generated/sklearn.preprocessing.StandardScaler.html).\n",
    "    - Normalization ensures that all features contribute equally by scaling them to a common range, preventing models from being biased toward features with larger values. It also helps gradient-based algorithms converge faster and improves overall model performance."
   ]
  },
  {
   "cell_type": "code",
   "execution_count": null,
   "metadata": {},
   "outputs": [],
   "source": [
    "from sklearn.preprocessing import StandardScaler\n",
    "\n"
   ]
  },
  {
   "cell_type": "markdown",
   "metadata": {},
   "source": [
    "## Training and evaluating a classification model using the hold out method\n",
    "\n",
    "**Your job**:\n",
    "- Train a model using the sklearn library (https://scikit-learn.org/stable/supervised_learning.html):\n",
    "    - Divide the dataset into a train and test set using the holdout method.\n",
    "    - Select an algorithm that we studied in the course.\n",
    "    - Train the algorithm on the train set.\n",
    "- Evaluate the model.\n",
    "    - Compute the confusion matrix on the test set.\n",
    "    - Copute the accuracy of the model for both the train and test set.\n"
   ]
  },
  {
   "cell_type": "code",
   "execution_count": null,
   "metadata": {},
   "outputs": [],
   "source": [
    "from sklearn.neighbors import KNeighborsClassifier\n",
    "from sklearn.naive_bayes import GaussianNB\n",
    "from sklearn.tree import DecisionTreeClassifier\n",
    "from sklearn.ensemble import RandomForestClassifier\n",
    "from sklearn.svm import SVC\n",
    "\n",
    "\n"
   ]
  },
  {
   "cell_type": "code",
   "execution_count": null,
   "metadata": {},
   "outputs": [],
   "source": [
    "from sklearn.model_selection import train_test_split\n",
    "from sklearn.metrics import accuracy_score\n",
    "\n"
   ]
  },
  {
   "cell_type": "markdown",
   "metadata": {},
   "source": [
    "## Training and evaluating a classification model using cross-validation\n",
    "\n",
    "**Your job**:\n",
    "- Train a model using the sklearn library (https://scikit-learn.org/stable/supervised_learning.html):\n",
    "    - Select another algorithm that we studied in the course.\n",
    "    - Train the algorithm using K-folds cross validation.\n",
    "- Evaluate the model.\n",
    "    - Compute the confusion matrix on the test set.\n",
    "    - Compute the accuracy of the model for both the train and test set.\n",
    "- Compare the performance with the holdout method."
   ]
  },
  {
   "cell_type": "code",
   "execution_count": null,
   "metadata": {},
   "outputs": [],
   "source": [
    "from sklearn.model_selection import KFold, cross_val_score\n",
    "\n"
   ]
  },
  {
   "cell_type": "code",
   "execution_count": null,
   "metadata": {},
   "outputs": [],
   "source": [
    "from sklearn.metrics import confusion_matrix, ConfusionMatrixDisplay\n"
   ]
  }
 ],
 "metadata": {
  "kernelspec": {
   "display_name": "venv",
   "language": "python",
   "name": "python3"
  },
  "language_info": {
   "codemirror_mode": {
    "name": "ipython",
    "version": 3
   },
   "file_extension": ".py",
   "mimetype": "text/x-python",
   "name": "python",
   "nbconvert_exporter": "python",
   "pygments_lexer": "ipython3",
   "version": "3.10.8"
  }
 },
 "nbformat": 4,
 "nbformat_minor": 2
}
