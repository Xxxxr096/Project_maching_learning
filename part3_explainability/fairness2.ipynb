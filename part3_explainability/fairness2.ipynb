{
 "cells": [
  {
   "cell_type": "markdown",
   "id": "4f621ce9",
   "metadata": {},
   "source": [
    "\n",
    "# Machine Learning with Python\n",
    "\n",
    "Welcome to the **Machine Learning** course! This course is designed to give you hands-on experience with the foundational concepts and advanced techniques in machine learning. You will explore:\n",
    "\n",
    "1. **Supervised Learning**\n",
    "    - Regression algorithms\n",
    "    - Classification algorithms\n",
    "2. **Unsupervised Learning**\n",
    "    - Clustering algorithms\n",
    "    - Dimensionality reduction\n",
    "3. **Fairness and Interpretability**\n",
    "    - Interpretable methods\n",
    "    - Bias evaluation\n",
    "    \n",
    "Throughout the course, you'll engage in projects to solidify your understanding and gain practical skills in implementing machine learning algorithms.  \n",
    "\n",
    "Instructor: Dr. Adrien Dorise  \n",
    "Contact: adrien.dorise@hotmail.com  \n",
    "\n",
    "---\n"
   ]
  },
  {
   "cell_type": "markdown",
   "id": "65839aab",
   "metadata": {},
   "source": [
    "## Part3: Fairness in machine learning with the COMPAS dataset\n",
    "In this project, you will try to tackle an ethic project with machine learning. The goal is to understand the possible biases in the datasets and when creating a machine learning model. The taks will include:  \n",
    "\n",
    "1. **Import and Understand a Dataset**: Learn how to load, preprocess, and explore a dataset to prepare it for training.\n",
    "2. **Perform classification on a dataset**: Learn to perform a classification on real dataset.\n",
    "3. **Interpret the model**: Learn to create interpretable representation of your model.\n",
    "4. **Analayse the possible biases**: Learn to be critical about the model's prediction.\n",
    "\n",
    "\n",
    "By the end of this project, you'll have a better understanding of the risks related to biases in datasets.\n",
    "\n",
    "---"
   ]
  },
  {
   "cell_type": "markdown",
   "id": "f1fe275d",
   "metadata": {},
   "source": [
    "## Dataset\n",
    "\n",
    "This exercise will use the **COMPAS dataset** (https://www.kaggle.com/datasets/danofer/compass/).  \n",
    "The COMPAS dataset contains data on individuals involved in the criminal justice system, including features like age, race, and criminal history, used to predict recidivism risk scores. It has been widely used to study algorithmic bias in risk prediction models.  \n",
    "\n",
    "Here, it is given to you in the `compas_binarised.csv` file.  \n",
    "The code snippet below allows you to load the dataset."
   ]
  },
  {
   "cell_type": "code",
   "execution_count": 1,
   "id": "2a9d08ef",
   "metadata": {},
   "outputs": [],
   "source": [
    "import pandas as pd\n",
    "\n",
    "# Read the dataset\n",
    "df = pd.read_csv('compas_binarised.csv')\n",
    "\n",
    "# Remove rows with missing values\n",
    "df = df.dropna()\n",
    "\n",
    "# Remove the 'id' column\n",
    "df = df.drop(columns=['id'])"
   ]
  },
  {
   "cell_type": "markdown",
   "id": "f897a758",
   "metadata": {},
   "source": [
    "## Data visualisation\n",
    "\n",
    "The description of the dataset is given to you in the code snippets below.\n",
    "\n",
    "**Your job**:\n",
    "- Look at the dataset information.\n",
    "- What can you say about the available features?\n",
    "- What is the target called?\n",
    "- Split the dataset into *feature* and *targets*.\n"
   ]
  },
  {
   "cell_type": "code",
   "execution_count": 3,
   "id": "5b5df0ee",
   "metadata": {},
   "outputs": [
    {
     "data": {
      "text/html": [
       "<div>\n",
       "<style scoped>\n",
       "    .dataframe tbody tr th:only-of-type {\n",
       "        vertical-align: middle;\n",
       "    }\n",
       "\n",
       "    .dataframe tbody tr th {\n",
       "        vertical-align: top;\n",
       "    }\n",
       "\n",
       "    .dataframe thead th {\n",
       "        text-align: right;\n",
       "    }\n",
       "</style>\n",
       "<table border=\"1\" class=\"dataframe\">\n",
       "  <thead>\n",
       "    <tr style=\"text-align: right;\">\n",
       "      <th></th>\n",
       "      <th>priors_count</th>\n",
       "      <th>is_recid</th>\n",
       "      <th>sex_Female</th>\n",
       "      <th>sex_Male</th>\n",
       "      <th>age_cat_25 - 45</th>\n",
       "      <th>age_cat_Greater than 45</th>\n",
       "      <th>age_cat_Less than 25</th>\n",
       "      <th>race_African-American</th>\n",
       "      <th>race_Asian</th>\n",
       "      <th>race_Caucasian</th>\n",
       "      <th>race_Hispanic</th>\n",
       "      <th>race_Native American</th>\n",
       "      <th>race_Other</th>\n",
       "    </tr>\n",
       "  </thead>\n",
       "  <tbody>\n",
       "    <tr>\n",
       "      <th>0</th>\n",
       "      <td>0</td>\n",
       "      <td>0</td>\n",
       "      <td>False</td>\n",
       "      <td>True</td>\n",
       "      <td>False</td>\n",
       "      <td>True</td>\n",
       "      <td>False</td>\n",
       "      <td>False</td>\n",
       "      <td>False</td>\n",
       "      <td>False</td>\n",
       "      <td>False</td>\n",
       "      <td>False</td>\n",
       "      <td>True</td>\n",
       "    </tr>\n",
       "    <tr>\n",
       "      <th>1</th>\n",
       "      <td>0</td>\n",
       "      <td>0</td>\n",
       "      <td>False</td>\n",
       "      <td>True</td>\n",
       "      <td>False</td>\n",
       "      <td>True</td>\n",
       "      <td>False</td>\n",
       "      <td>False</td>\n",
       "      <td>False</td>\n",
       "      <td>False</td>\n",
       "      <td>False</td>\n",
       "      <td>False</td>\n",
       "      <td>True</td>\n",
       "    </tr>\n",
       "    <tr>\n",
       "      <th>2</th>\n",
       "      <td>0</td>\n",
       "      <td>1</td>\n",
       "      <td>False</td>\n",
       "      <td>True</td>\n",
       "      <td>True</td>\n",
       "      <td>False</td>\n",
       "      <td>False</td>\n",
       "      <td>True</td>\n",
       "      <td>False</td>\n",
       "      <td>False</td>\n",
       "      <td>False</td>\n",
       "      <td>False</td>\n",
       "      <td>False</td>\n",
       "    </tr>\n",
       "    <tr>\n",
       "      <th>3</th>\n",
       "      <td>4</td>\n",
       "      <td>1</td>\n",
       "      <td>False</td>\n",
       "      <td>True</td>\n",
       "      <td>False</td>\n",
       "      <td>False</td>\n",
       "      <td>True</td>\n",
       "      <td>True</td>\n",
       "      <td>False</td>\n",
       "      <td>False</td>\n",
       "      <td>False</td>\n",
       "      <td>False</td>\n",
       "      <td>False</td>\n",
       "    </tr>\n",
       "    <tr>\n",
       "      <th>4</th>\n",
       "      <td>4</td>\n",
       "      <td>1</td>\n",
       "      <td>False</td>\n",
       "      <td>True</td>\n",
       "      <td>False</td>\n",
       "      <td>False</td>\n",
       "      <td>True</td>\n",
       "      <td>True</td>\n",
       "      <td>False</td>\n",
       "      <td>False</td>\n",
       "      <td>False</td>\n",
       "      <td>False</td>\n",
       "      <td>False</td>\n",
       "    </tr>\n",
       "  </tbody>\n",
       "</table>\n",
       "</div>"
      ],
      "text/plain": [
       "   priors_count  is_recid  sex_Female  sex_Male  age_cat_25 - 45  \\\n",
       "0             0         0       False      True            False   \n",
       "1             0         0       False      True            False   \n",
       "2             0         1       False      True             True   \n",
       "3             4         1       False      True            False   \n",
       "4             4         1       False      True            False   \n",
       "\n",
       "   age_cat_Greater than 45  age_cat_Less than 25  race_African-American  \\\n",
       "0                     True                 False                  False   \n",
       "1                     True                 False                  False   \n",
       "2                    False                 False                   True   \n",
       "3                    False                  True                   True   \n",
       "4                    False                  True                   True   \n",
       "\n",
       "   race_Asian  race_Caucasian  race_Hispanic  race_Native American  race_Other  \n",
       "0       False           False          False                 False        True  \n",
       "1       False           False          False                 False        True  \n",
       "2       False           False          False                 False       False  \n",
       "3       False           False          False                 False       False  \n",
       "4       False           False          False                 False       False  "
      ]
     },
     "execution_count": 3,
     "metadata": {},
     "output_type": "execute_result"
    }
   ],
   "source": [
    "# Show the first few rows to check the structure of the data\n",
    "df.head()"
   ]
  },
  {
   "cell_type": "code",
   "execution_count": 4,
   "id": "39b99804",
   "metadata": {},
   "outputs": [
    {
     "name": "stdout",
     "output_type": "stream",
     "text": [
      "<class 'pandas.core.frame.DataFrame'>\n",
      "Int64Index: 10542 entries, 0 to 10541\n",
      "Data columns (total 13 columns):\n",
      " #   Column                   Non-Null Count  Dtype\n",
      "---  ------                   --------------  -----\n",
      " 0   priors_count             10542 non-null  int64\n",
      " 1   is_recid                 10542 non-null  int64\n",
      " 2   sex_Female               10542 non-null  bool \n",
      " 3   sex_Male                 10542 non-null  bool \n",
      " 4   age_cat_25 - 45          10542 non-null  bool \n",
      " 5   age_cat_Greater than 45  10542 non-null  bool \n",
      " 6   age_cat_Less than 25     10542 non-null  bool \n",
      " 7   race_African-American    10542 non-null  bool \n",
      " 8   race_Asian               10542 non-null  bool \n",
      " 9   race_Caucasian           10542 non-null  bool \n",
      " 10  race_Hispanic            10542 non-null  bool \n",
      " 11  race_Native American     10542 non-null  bool \n",
      " 12  race_Other               10542 non-null  bool \n",
      "dtypes: bool(11), int64(2)\n",
      "memory usage: 360.3 KB\n"
     ]
    }
   ],
   "source": [
    "# Display the structure of the dataset\n",
    "df.info() "
   ]
  },
  {
   "cell_type": "code",
   "execution_count": 5,
   "id": "8952a753",
   "metadata": {},
   "outputs": [
    {
     "name": "stdout",
     "output_type": "stream",
     "text": [
      "       priors_count      is_recid\n",
      "count  10542.000000  10542.000000\n",
      "mean       4.099507      0.473629\n",
      "std        5.380332      0.499328\n",
      "min        0.000000      0.000000\n",
      "25%        1.000000      0.000000\n",
      "50%        2.000000      0.000000\n",
      "75%        6.000000      1.000000\n",
      "max       43.000000      1.000000\n"
     ]
    }
   ],
   "source": [
    "# Display the summary statistics of the dataset\n",
    "print(df.describe())  "
   ]
  },
  {
   "cell_type": "code",
   "execution_count": 7,
   "id": "3308d4b7",
   "metadata": {},
   "outputs": [],
   "source": [
    "# TODO\n",
    "target = 'is_recid'\n",
    "# Séparer le dataset en features et target\n",
    "X = df.drop(columns=target)\n",
    "y = df[target]"
   ]
  },
  {
   "cell_type": "markdown",
   "id": "c2d5dfb4",
   "metadata": {},
   "source": [
    "## Train an SVM classifier\n",
    "\n",
    "You will start by training a SVM classifier on the COMPAS dataset.\n",
    "\n",
    "**Your job:**\n",
    "- Split the dataset between train and test using the holdout method.\n",
    "- Train a SVM model.\n",
    "- Print the accuracy of the SVM model."
   ]
  },
  {
   "cell_type": "code",
   "execution_count": 10,
   "id": "a6ceb88e",
   "metadata": {},
   "outputs": [
    {
     "name": "stdout",
     "output_type": "stream",
     "text": [
      "Accuracy du modèle SVM : 0.65\n"
     ]
    }
   ],
   "source": [
    "from sklearn.svm import SVC\n",
    "from sklearn.model_selection import train_test_split\n",
    "from sklearn.metrics import accuracy_score\n",
    "\n",
    "\n",
    "X_train, X_test, y_train, y_test = train_test_split(X, y, test_size=0.3, random_state=42)\n",
    "svm_model = SVC()\n",
    "svm_model.fit(X_train, y_train)\n",
    "y_pred = svm_model.predict(X_test)\n",
    "\n",
    "# Calcul et affichage de l'accuracy\n",
    "accuracy = accuracy_score(y_test, y_pred)\n",
    "print(\"Accuracy du modèle SVM :\", round(accuracy,2))"
   ]
  },
  {
   "cell_type": "markdown",
   "id": "dabf7f2a",
   "metadata": {},
   "source": [
    "## Train a Decision tree classifier and interpret the model\n",
    "\n",
    "Decision tree are highly interpretable. They can be usefull into knowing which features are relevant in the prediction.\n",
    "\n",
    "**Your job:**\n",
    "- Split the dataset between train and test using the holdout method.\n",
    "- Train a decision tree model and modify the hyperparameters.\n",
    "- Print the accuracy of the decision tree model.\n",
    "- Plot the confusion matrix \n",
    "- Visualise the tree\n",
    "    - You can use the **plot_tree method**\n",
    "    - `plot_tree(model, filled=True, feature_names=features.columns, class_names=['No Recidivism', 'Recidivism'], rounded=True)`\n",
    "- Conclude about the most important features."
   ]
  },
  {
   "cell_type": "code",
   "execution_count": null,
   "id": "9768f507",
   "metadata": {},
   "outputs": [],
   "source": [
    "import numpy as np\n",
    "from sklearn.tree import DecisionTreeClassifier, plot_tree\n",
    "from sklearn.model_selection import train_test_split, cross_val_score\n",
    "from sklearn.metrics import confusion_matrix, ConfusionMatrixDisplay\n",
    "\n",
    "\n",
    "# Train a decision tree\n",
    "model = DecisionTreeClassifier(max_depth=5, criterion='gini', splitter = \"random\", min_samples_leaf = 800 , min_samples_split = 1000, random_state=42)\n",
    "\n",
    "# TODO"
   ]
  },
  {
   "cell_type": "code",
   "execution_count": null,
   "id": "f969efdf",
   "metadata": {},
   "outputs": [],
   "source": [
    "import matplotlib.pyplot as plt\n",
    "\n"
   ]
  },
  {
   "cell_type": "markdown",
   "id": "a95a0ac3",
   "metadata": {},
   "source": [
    "## Evaluate biases\n",
    "\n",
    "Now that you have evaluated your model on the whole dataset, it is now time to see if there exists a bias in your model.\n",
    "\n",
    "**Your job:**\n",
    "- Proposes an evaluation method that evaluates if the model is biased regarding a certain population.\n",
    "- Is the model fair?\n",
    "- Conclude on your results."
   ]
  },
  {
   "cell_type": "code",
   "execution_count": null,
   "id": "b71d52a6",
   "metadata": {},
   "outputs": [],
   "source": [
    "\n",
    "\n"
   ]
  },
  {
   "cell_type": "markdown",
   "id": "ea07d857",
   "metadata": {},
   "source": [
    "# The END!\n",
    "\n",
    "Congratulations!  \n",
    "You have now completed this course about machine learning!  \n",
    "You should now have a good understanding of the basic principles of artificial intelligence!  \n",
    "\n",
    "It is a fine knowledge basis on which you construct yourself. You are now well-prepared to tackle new challenges in machine learning!\n",
    "\n",
    "If you liked this course, don't hesitate to contact me for other courses:\n",
    "- **Machine learning:** from supervised to unsupervised, with ethical questionning.\n",
    "- **Deep Learning:** from the 50's perceptron up to the transformer powerhouse.\n",
    "- **Reinforcement learning:** learn to create you own unique agent!\n",
    "- **AI in games:** learn to apply deep learning in video games!\n",
    "\n",
    "Also, don't hesitate to *star* this repository, it helps me a lot!"
   ]
  }
 ],
 "metadata": {
  "kernelspec": {
   "display_name": "Python 3 (ipykernel)",
   "language": "python",
   "name": "python3"
  },
  "language_info": {
   "codemirror_mode": {
    "name": "ipython",
    "version": 3
   },
   "file_extension": ".py",
   "mimetype": "text/x-python",
   "name": "python",
   "nbconvert_exporter": "python",
   "pygments_lexer": "ipython3",
   "version": "3.11.5"
  }
 },
 "nbformat": 4,
 "nbformat_minor": 5
}
