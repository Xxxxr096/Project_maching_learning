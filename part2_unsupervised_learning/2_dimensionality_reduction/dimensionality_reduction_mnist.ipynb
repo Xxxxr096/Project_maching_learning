{
 "cells": [
  {
   "cell_type": "markdown",
   "id": "44b754e2",
   "metadata": {},
   "source": [
    "\n",
    "# Machine Learning with Python\n",
    "\n",
    "Welcome to the **Machine Learning** course! This course is designed to give you hands-on experience with the foundational concepts and advanced techniques in machine learning. You will explore:\n",
    "\n",
    "1. **Supervised Learning**\n",
    "    - Regression algorithms\n",
    "    - Classification algorithms\n",
    "2. **Unsupervised Learning**\n",
    "    - Clustering algorithms\n",
    "    - Dimensionality reduction\n",
    "3. **Fairness and Interpretability**\n",
    "    - Interpretable methods\n",
    "    - Bias evaluation\n",
    "    \n",
    "Throughout the course, you'll engage in projects to solidify your understanding and gain practical skills in implementing machine learning algorithms.  \n",
    "\n",
    "Instructor: Dr. Adrien Dorise  \n",
    "Contact: adrien.dorise@hotmail.com  \n",
    "\n",
    "---\n"
   ]
  },
  {
   "cell_type": "markdown",
   "id": "d935e7bd",
   "metadata": {},
   "source": [
    "## Part2.2: Unsupervised learning - Dimensionality reduction on the MNIST dataset\n",
    "In this project, you will use dimensionality reduction to get a better representation of the MNIST dataset, and analyse its impact on classification. The taks will include:  \n",
    "\n",
    "1. **Import and Understand a Dataset**: Learn how to load, preprocess, and explore a dataset to prepare it for training.\n",
    "2. **Perform dimensionality reduction on a dataset**: Learn to transform a high-dimensional dataset into a 2D dataset for better visualisation.\n",
    "3. **Train a classification model**: Select and train a classification model using scikit-learn.\n",
    "4. **Evaluate and plot the model performance**: Select a criterion to which you can evaluate the model, and plot its result.\n",
    "5. **Compare multiple classification model, and get the best performance**: Compare multiple models, and find the best model to fit the data.\n",
    "\n",
    "By the end of this project, you'll have a solid understanding of what dimensionality reduction can do, and how it can improves models performance.\n",
    "\n",
    "---"
   ]
  },
  {
   "cell_type": "markdown",
   "id": "140d6203",
   "metadata": {},
   "source": [
    "## Dataset\n",
    "\n",
    "This exercise will use the **MNIST dataset** (https://en.wikipedia.org/wiki/MNIST_database).  \n",
    "MNIST is a benchmark dataset of 70,000 handwritten digits (0–9), each represented as a 28×28 grayscale image.  \n",
    "It is widely used for training and testing image classification algorithms in machine learning and computer vision.  \n",
    "\n",
    "<img src=\"doc/MNIST_example.png\" alt=\"MNIST\" width=\"1000\"/>  \n",
    "\n",
    "The code snippet below allows you to load the dataset."
   ]
  },
  {
   "cell_type": "code",
   "execution_count": null,
   "id": "f5b1ca5d",
   "metadata": {},
   "outputs": [],
   "source": [
    "from sklearn.datasets import fetch_openml\n",
    "\n",
    "\n",
    "# Import MNIST\n",
    "mnist = fetch_openml('mnist_784', version=1, as_frame=False)\n",
    "X, y = mnist['data'], mnist['target'].astype(int)"
   ]
  },
  {
   "cell_type": "markdown",
   "id": "0a24857f",
   "metadata": {},
   "source": [
    "## Data visualisation\n",
    "\n",
    "The visualisation of the MNIST datasets is already given to you.  \n",
    "\n",
    "The code snippet below is:\n",
    "- Printing the first 10 samples of the dataset, with their class.\n",
    "    - As the sample are 28x28 images, you can use `plt.imshow(X[0].reshape(28, 28), cmap='gray')`\n",
    "\n",
    "**Your job**\n",
    "- Print the number of samples in the dataset\n",
    "- Print the number of samples per class\n"
   ]
  },
  {
   "cell_type": "code",
   "execution_count": null,
   "id": "f88323a0",
   "metadata": {},
   "outputs": [],
   "source": [
    "import matplotlib.pyplot as plt\n",
    "\n",
    "# Plot the first 10 MNIST samples with their labels\n",
    "plt.figure(figsize=(10, 2))\n",
    "for i in range(10):\n",
    "    plt.subplot(1, 10, i + 1)\n",
    "    plt.imshow(X[i].reshape(28, 28), cmap='gray')\n",
    "    plt.title(f\"{y[i]}\")\n",
    "    plt.axis('off')\n",
    "plt.suptitle(\"First 10 MNIST Digits with Labels\")\n",
    "plt.tight_layout()\n",
    "plt.show()"
   ]
  },
  {
   "cell_type": "code",
   "execution_count": null,
   "id": "5d5ad09d",
   "metadata": {},
   "outputs": [],
   "source": [
    "import numpy as np\n",
    "\n"
   ]
  },
  {
   "cell_type": "markdown",
   "id": "47dd8557",
   "metadata": {},
   "source": [
    "## Data preparation and classification\n",
    "\n",
    "As for the Iris dataset in part 1.2, you wil have to train a classification model on the MNIST dataset.  \n",
    "This time, I want you to print also the execution time of your model for both training and prediction.  \n",
    "\n",
    "**Your job:**\n",
    "- Split features and targets using the holdout method.\n",
    "- Select a classifier.\n",
    "- Train the classifier\n",
    "    - **Record the training time**\n",
    "    - You can use the *time* package\n",
    "        - `import time`\n",
    "        - `time = time.time()`\n",
    "- Evaluate the model:\n",
    "    - Make prediction on the test set\n",
    "    - **Record the prediction time**\n",
    "    - Print the confusion matrix\n",
    "    - Print the accuracy of your model"
   ]
  },
  {
   "cell_type": "code",
   "execution_count": null,
   "id": "457b7587",
   "metadata": {},
   "outputs": [],
   "source": [
    "from sklearn.metrics import accuracy_score, ConfusionMatrixDisplay\n",
    "from sklearn.model_selection import train_test_split\n",
    "import time\n",
    "\n"
   ]
  },
  {
   "cell_type": "markdown",
   "id": "177d8924",
   "metadata": {},
   "source": [
    "## Dimensionality reduction\n",
    "\n",
    "\n",
    "**Your job:**\n",
    "- Select a dimensionality reduction algorithm\n",
    "- Apply a standard scaling to the data\n",
    "- Apply the algorithm on the dataset\n",
    "    - Note that here were aim to improve the classification\n",
    "    - *No need to force the dimension in 2D or 3D.*\n",
    "- Print the new number of features."
   ]
  },
  {
   "cell_type": "code",
   "execution_count": null,
   "id": "e87ea972",
   "metadata": {},
   "outputs": [],
   "source": [
    "from sklearn.preprocessing import StandardScaler\n",
    "from sklearn.decomposition import PCA \n",
    "from sklearn.manifold import TSNE\n",
    "\n"
   ]
  },
  {
   "cell_type": "markdown",
   "id": "2d4b4dd1",
   "metadata": {},
   "source": [
    "## Classification on reduced dataset\n",
    "\n",
    "We now are going to evaluate the performance of your classifier on the reduced dataset.\n",
    "\n",
    "**Your job:**\n",
    "- Redo the steps to train the classifier, but with the reduced dataset\n",
    "    - Train/test split\n",
    "    - Classifier fitting while recording time\n",
    "    - Classifier prediction while recording time\n",
    "    - Compute confusion matrix and accuracy\n",
    "- Conclude on the results "
   ]
  },
  {
   "cell_type": "code",
   "execution_count": null,
   "id": "b434972b",
   "metadata": {},
   "outputs": [],
   "source": [
    "\n"
   ]
  }
 ],
 "metadata": {
  "kernelspec": {
   "display_name": "venv",
   "language": "python",
   "name": "python3"
  },
  "language_info": {
   "codemirror_mode": {
    "name": "ipython",
    "version": 3
   },
   "file_extension": ".py",
   "mimetype": "text/x-python",
   "name": "python",
   "nbconvert_exporter": "python",
   "pygments_lexer": "ipython3",
   "version": "3.10.8"
  }
 },
 "nbformat": 4,
 "nbformat_minor": 5
}
